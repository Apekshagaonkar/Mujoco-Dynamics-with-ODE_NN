{
  "cells": [
    {
      "cell_type": "markdown",
      "metadata": {
        "id": "view-in-github",
        "colab_type": "text"
      },
      "source": [
        "<a href=\"https://colab.research.google.com/github/Apekshagaonkar/Mujoco-Dynamics-with-ODE_NN/blob/main/notebooks/Walker_data_collection.ipynb\" target=\"_parent\"><img src=\"https://colab.research.google.com/assets/colab-badge.svg\" alt=\"Open In Colab\"/></a>"
      ]
    },
    {
      "cell_type": "markdown",
      "metadata": {
        "id": "u_RoSGn24U0c"
      },
      "source": [
        "# DYNA-Q"
      ]
    },
    {
      "cell_type": "code",
      "execution_count": null,
      "metadata": {
        "colab": {
          "base_uri": "https://localhost:8080/"
        },
        "id": "TZBDwneuMf3P",
        "outputId": "7b727d42-cc78-43b5-9f32-f957bbb656fe"
      },
      "outputs": [
        {
          "output_type": "stream",
          "name": "stdout",
          "text": [
            "Collecting gym==0.22\n",
            "  Downloading gym-0.22.0.tar.gz (631 kB)\n",
            "\u001b[2K     \u001b[90m━━━━━━━━━━━━━━━━━━━━━━━━━━━━━━━━━━━━━━━━\u001b[0m \u001b[32m631.1/631.1 kB\u001b[0m \u001b[31m4.9 MB/s\u001b[0m eta \u001b[36m0:00:00\u001b[0m\n",
            "\u001b[?25h  Installing build dependencies ... \u001b[?25l\u001b[?25hdone\n",
            "  Getting requirements to build wheel ... \u001b[?25l\u001b[?25hdone\n",
            "  Preparing metadata (pyproject.toml) ... \u001b[?25l\u001b[?25hdone\n",
            "Requirement already satisfied: numpy>=1.18.0 in /usr/local/lib/python3.10/dist-packages (from gym==0.22) (1.25.2)\n",
            "Requirement already satisfied: cloudpickle>=1.2.0 in /usr/local/lib/python3.10/dist-packages (from gym==0.22) (2.2.1)\n",
            "Requirement already satisfied: gym-notices>=0.0.4 in /usr/local/lib/python3.10/dist-packages (from gym==0.22) (0.0.8)\n",
            "Building wheels for collected packages: gym\n",
            "  Building wheel for gym (pyproject.toml) ... \u001b[?25l\u001b[?25hdone\n",
            "  Created wheel for gym: filename=gym-0.22.0-py3-none-any.whl size=708363 sha256=1b4a5fd579cd83a2811d112f690a19ce425d2a21cdba4ad8d4a2073fcd2b84d7\n",
            "  Stored in directory: /root/.cache/pip/wheels/42/e8/e8/6dfbc92a1dcd76c1a5e2bb982750fd6b7e792239f46039e6b1\n",
            "Successfully built gym\n",
            "Installing collected packages: gym\n",
            "  Attempting uninstall: gym\n",
            "    Found existing installation: gym 0.25.2\n",
            "    Uninstalling gym-0.25.2:\n",
            "      Successfully uninstalled gym-0.25.2\n",
            "Successfully installed gym-0.22.0\n",
            "Collecting free-mujoco-py\n",
            "  Downloading free_mujoco_py-2.1.6-py3-none-any.whl (14.1 MB)\n",
            "\u001b[2K     \u001b[90m━━━━━━━━━━━━━━━━━━━━━━━━━━━━━━━━━━━━━━━━\u001b[0m \u001b[32m14.1/14.1 MB\u001b[0m \u001b[31m44.2 MB/s\u001b[0m eta \u001b[36m0:00:00\u001b[0m\n",
            "\u001b[?25hCollecting Cython<0.30.0,>=0.29.24 (from free-mujoco-py)\n",
            "  Downloading Cython-0.29.37-cp310-cp310-manylinux_2_17_x86_64.manylinux2014_x86_64.manylinux_2_24_x86_64.whl (1.9 MB)\n",
            "\u001b[2K     \u001b[90m━━━━━━━━━━━━━━━━━━━━━━━━━━━━━━━━━━━━━━━━\u001b[0m \u001b[32m1.9/1.9 MB\u001b[0m \u001b[31m66.6 MB/s\u001b[0m eta \u001b[36m0:00:00\u001b[0m\n",
            "\u001b[?25hRequirement already satisfied: cffi<2.0.0,>=1.15.0 in /usr/local/lib/python3.10/dist-packages (from free-mujoco-py) (1.16.0)\n",
            "Collecting fasteners==0.15 (from free-mujoco-py)\n",
            "  Downloading fasteners-0.15-py2.py3-none-any.whl (23 kB)\n",
            "Collecting glfw<2.0.0,>=1.4.0 (from free-mujoco-py)\n",
            "  Downloading glfw-1.12.0-py2.py27.py3.py30.py31.py32.py33.py34.py35.py36.py37.py38-none-manylinux2014_x86_64.whl (203 kB)\n",
            "\u001b[2K     \u001b[90m━━━━━━━━━━━━━━━━━━━━━━━━━━━━━━━━━━━━━━━━\u001b[0m \u001b[32m203.7/203.7 kB\u001b[0m \u001b[31m26.2 MB/s\u001b[0m eta \u001b[36m0:00:00\u001b[0m\n",
            "\u001b[?25hRequirement already satisfied: imageio<3.0.0,>=2.9.0 in /usr/local/lib/python3.10/dist-packages (from free-mujoco-py) (2.31.6)\n",
            "Requirement already satisfied: numpy<2.0.0,>=1.21.3 in /usr/local/lib/python3.10/dist-packages (from free-mujoco-py) (1.25.2)\n",
            "Requirement already satisfied: six in /usr/local/lib/python3.10/dist-packages (from fasteners==0.15->free-mujoco-py) (1.16.0)\n",
            "Collecting monotonic>=0.1 (from fasteners==0.15->free-mujoco-py)\n",
            "  Downloading monotonic-1.6-py2.py3-none-any.whl (8.2 kB)\n",
            "Requirement already satisfied: pycparser in /usr/local/lib/python3.10/dist-packages (from cffi<2.0.0,>=1.15.0->free-mujoco-py) (2.22)\n",
            "Requirement already satisfied: pillow<10.1.0,>=8.3.2 in /usr/local/lib/python3.10/dist-packages (from imageio<3.0.0,>=2.9.0->free-mujoco-py) (9.4.0)\n",
            "Installing collected packages: monotonic, glfw, fasteners, Cython, free-mujoco-py\n",
            "  Attempting uninstall: Cython\n",
            "    Found existing installation: Cython 3.0.10\n",
            "    Uninstalling Cython-3.0.10:\n",
            "      Successfully uninstalled Cython-3.0.10\n",
            "Successfully installed Cython-0.29.37 fasteners-0.15 free-mujoco-py-2.1.6 glfw-1.12.0 monotonic-1.6\n",
            "Collecting moviepy==1.0.0\n",
            "  Downloading moviepy-1.0.0.tar.gz (398 kB)\n",
            "\u001b[2K     \u001b[90m━━━━━━━━━━━━━━━━━━━━━━━━━━━━━━━━━━━━━━━━\u001b[0m \u001b[32m398.8/398.8 kB\u001b[0m \u001b[31m7.0 MB/s\u001b[0m eta \u001b[36m0:00:00\u001b[0m\n",
            "\u001b[?25h  Preparing metadata (setup.py) ... \u001b[?25l\u001b[?25hdone\n",
            "Requirement already satisfied: decorator<5.0,>=4.0.2 in /usr/local/lib/python3.10/dist-packages (from moviepy==1.0.0) (4.4.2)\n",
            "Requirement already satisfied: tqdm<5.0,>=4.11.2 in /usr/local/lib/python3.10/dist-packages (from moviepy==1.0.0) (4.66.4)\n",
            "Requirement already satisfied: numpy in /usr/local/lib/python3.10/dist-packages (from moviepy==1.0.0) (1.25.2)\n",
            "Requirement already satisfied: requests<3.0,>=2.8.1 in /usr/local/lib/python3.10/dist-packages (from moviepy==1.0.0) (2.31.0)\n",
            "Requirement already satisfied: proglog<=1.0.0 in /usr/local/lib/python3.10/dist-packages (from moviepy==1.0.0) (0.1.10)\n",
            "Requirement already satisfied: imageio<3.0,>=2.5 in /usr/local/lib/python3.10/dist-packages (from moviepy==1.0.0) (2.31.6)\n",
            "Requirement already satisfied: imageio_ffmpeg>=0.2.0 in /usr/local/lib/python3.10/dist-packages (from moviepy==1.0.0) (0.4.9)\n",
            "Requirement already satisfied: pillow<10.1.0,>=8.3.2 in /usr/local/lib/python3.10/dist-packages (from imageio<3.0,>=2.5->moviepy==1.0.0) (9.4.0)\n",
            "Requirement already satisfied: setuptools in /usr/local/lib/python3.10/dist-packages (from imageio_ffmpeg>=0.2.0->moviepy==1.0.0) (67.7.2)\n",
            "Requirement already satisfied: charset-normalizer<4,>=2 in /usr/local/lib/python3.10/dist-packages (from requests<3.0,>=2.8.1->moviepy==1.0.0) (3.3.2)\n",
            "Requirement already satisfied: idna<4,>=2.5 in /usr/local/lib/python3.10/dist-packages (from requests<3.0,>=2.8.1->moviepy==1.0.0) (3.7)\n",
            "Requirement already satisfied: urllib3<3,>=1.21.1 in /usr/local/lib/python3.10/dist-packages (from requests<3.0,>=2.8.1->moviepy==1.0.0) (2.0.7)\n",
            "Requirement already satisfied: certifi>=2017.4.17 in /usr/local/lib/python3.10/dist-packages (from requests<3.0,>=2.8.1->moviepy==1.0.0) (2024.2.2)\n",
            "Building wheels for collected packages: moviepy\n",
            "  Building wheel for moviepy (setup.py) ... \u001b[?25l\u001b[?25hdone\n",
            "  Created wheel for moviepy: filename=moviepy-1.0.0-py3-none-any.whl size=131365 sha256=641149e9f28258294a3dfa3bb6f590f89554e76044ae4e22b7cea235f2b24165\n",
            "  Stored in directory: /root/.cache/pip/wheels/53/02/b3/1ed75c9098aab405e60ac42176454ba1aacebd9dde2af0a4e1\n",
            "Successfully built moviepy\n",
            "Installing collected packages: moviepy\n",
            "  Attempting uninstall: moviepy\n",
            "    Found existing installation: moviepy 1.0.3\n",
            "    Uninstalling moviepy-1.0.3:\n",
            "      Successfully uninstalled moviepy-1.0.3\n",
            "Successfully installed moviepy-1.0.0\n",
            "Requirement already satisfied: torch in /usr/local/lib/python3.10/dist-packages (2.3.0+cu121)\n",
            "Requirement already satisfied: filelock in /usr/local/lib/python3.10/dist-packages (from torch) (3.14.0)\n",
            "Requirement already satisfied: typing-extensions>=4.8.0 in /usr/local/lib/python3.10/dist-packages (from torch) (4.12.0)\n",
            "Requirement already satisfied: sympy in /usr/local/lib/python3.10/dist-packages (from torch) (1.12.1)\n",
            "Requirement already satisfied: networkx in /usr/local/lib/python3.10/dist-packages (from torch) (3.3)\n",
            "Requirement already satisfied: jinja2 in /usr/local/lib/python3.10/dist-packages (from torch) (3.1.4)\n",
            "Requirement already satisfied: fsspec in /usr/local/lib/python3.10/dist-packages (from torch) (2023.6.0)\n",
            "Collecting nvidia-cuda-nvrtc-cu12==12.1.105 (from torch)\n",
            "  Using cached nvidia_cuda_nvrtc_cu12-12.1.105-py3-none-manylinux1_x86_64.whl (23.7 MB)\n",
            "Collecting nvidia-cuda-runtime-cu12==12.1.105 (from torch)\n",
            "  Using cached nvidia_cuda_runtime_cu12-12.1.105-py3-none-manylinux1_x86_64.whl (823 kB)\n",
            "Collecting nvidia-cuda-cupti-cu12==12.1.105 (from torch)\n",
            "  Using cached nvidia_cuda_cupti_cu12-12.1.105-py3-none-manylinux1_x86_64.whl (14.1 MB)\n",
            "Collecting nvidia-cudnn-cu12==8.9.2.26 (from torch)\n",
            "  Using cached nvidia_cudnn_cu12-8.9.2.26-py3-none-manylinux1_x86_64.whl (731.7 MB)\n",
            "Collecting nvidia-cublas-cu12==12.1.3.1 (from torch)\n",
            "  Using cached nvidia_cublas_cu12-12.1.3.1-py3-none-manylinux1_x86_64.whl (410.6 MB)\n",
            "Collecting nvidia-cufft-cu12==11.0.2.54 (from torch)\n",
            "  Using cached nvidia_cufft_cu12-11.0.2.54-py3-none-manylinux1_x86_64.whl (121.6 MB)\n",
            "Collecting nvidia-curand-cu12==10.3.2.106 (from torch)\n",
            "  Using cached nvidia_curand_cu12-10.3.2.106-py3-none-manylinux1_x86_64.whl (56.5 MB)\n",
            "Collecting nvidia-cusolver-cu12==11.4.5.107 (from torch)\n",
            "  Using cached nvidia_cusolver_cu12-11.4.5.107-py3-none-manylinux1_x86_64.whl (124.2 MB)\n",
            "Collecting nvidia-cusparse-cu12==12.1.0.106 (from torch)\n",
            "  Using cached nvidia_cusparse_cu12-12.1.0.106-py3-none-manylinux1_x86_64.whl (196.0 MB)\n",
            "Collecting nvidia-nccl-cu12==2.20.5 (from torch)\n",
            "  Using cached nvidia_nccl_cu12-2.20.5-py3-none-manylinux2014_x86_64.whl (176.2 MB)\n",
            "Collecting nvidia-nvtx-cu12==12.1.105 (from torch)\n",
            "  Using cached nvidia_nvtx_cu12-12.1.105-py3-none-manylinux1_x86_64.whl (99 kB)\n",
            "Requirement already satisfied: triton==2.3.0 in /usr/local/lib/python3.10/dist-packages (from torch) (2.3.0)\n",
            "Collecting nvidia-nvjitlink-cu12 (from nvidia-cusolver-cu12==11.4.5.107->torch)\n",
            "  Downloading nvidia_nvjitlink_cu12-12.5.40-py3-none-manylinux2014_x86_64.whl (21.3 MB)\n",
            "\u001b[2K     \u001b[90m━━━━━━━━━━━━━━━━━━━━━━━━━━━━━━━━━━━━━━━━\u001b[0m \u001b[32m21.3/21.3 MB\u001b[0m \u001b[31m53.8 MB/s\u001b[0m eta \u001b[36m0:00:00\u001b[0m\n",
            "\u001b[?25hRequirement already satisfied: MarkupSafe>=2.0 in /usr/local/lib/python3.10/dist-packages (from jinja2->torch) (2.1.5)\n",
            "Requirement already satisfied: mpmath<1.4.0,>=1.1.0 in /usr/local/lib/python3.10/dist-packages (from sympy->torch) (1.3.0)\n",
            "Installing collected packages: nvidia-nvtx-cu12, nvidia-nvjitlink-cu12, nvidia-nccl-cu12, nvidia-curand-cu12, nvidia-cufft-cu12, nvidia-cuda-runtime-cu12, nvidia-cuda-nvrtc-cu12, nvidia-cuda-cupti-cu12, nvidia-cublas-cu12, nvidia-cusparse-cu12, nvidia-cudnn-cu12, nvidia-cusolver-cu12\n",
            "Successfully installed nvidia-cublas-cu12-12.1.3.1 nvidia-cuda-cupti-cu12-12.1.105 nvidia-cuda-nvrtc-cu12-12.1.105 nvidia-cuda-runtime-cu12-12.1.105 nvidia-cudnn-cu12-8.9.2.26 nvidia-cufft-cu12-11.0.2.54 nvidia-curand-cu12-10.3.2.106 nvidia-cusolver-cu12-11.4.5.107 nvidia-cusparse-cu12-12.1.0.106 nvidia-nccl-cu12-2.20.5 nvidia-nvjitlink-cu12-12.5.40 nvidia-nvtx-cu12-12.1.105\n",
            "Collecting mujoco\n",
            "  Downloading mujoco-3.1.6-cp310-cp310-manylinux_2_17_x86_64.manylinux2014_x86_64.whl (5.5 MB)\n",
            "\u001b[2K     \u001b[90m━━━━━━━━━━━━━━━━━━━━━━━━━━━━━━━━━━━━━━━━\u001b[0m \u001b[32m5.5/5.5 MB\u001b[0m \u001b[31m17.3 MB/s\u001b[0m eta \u001b[36m0:00:00\u001b[0m\n",
            "\u001b[?25hRequirement already satisfied: absl-py in /usr/local/lib/python3.10/dist-packages (from mujoco) (1.4.0)\n",
            "Requirement already satisfied: etils[epath] in /usr/local/lib/python3.10/dist-packages (from mujoco) (1.7.0)\n",
            "Requirement already satisfied: glfw in /usr/local/lib/python3.10/dist-packages (from mujoco) (1.12.0)\n",
            "Requirement already satisfied: numpy in /usr/local/lib/python3.10/dist-packages (from mujoco) (1.25.2)\n",
            "Requirement already satisfied: pyopengl in /usr/local/lib/python3.10/dist-packages (from mujoco) (3.1.7)\n",
            "Requirement already satisfied: fsspec in /usr/local/lib/python3.10/dist-packages (from etils[epath]->mujoco) (2023.6.0)\n",
            "Requirement already satisfied: importlib_resources in /usr/local/lib/python3.10/dist-packages (from etils[epath]->mujoco) (6.4.0)\n",
            "Requirement already satisfied: typing_extensions in /usr/local/lib/python3.10/dist-packages (from etils[epath]->mujoco) (4.12.0)\n",
            "Requirement already satisfied: zipp in /usr/local/lib/python3.10/dist-packages (from etils[epath]->mujoco) (3.19.0)\n",
            "Installing collected packages: mujoco\n",
            "Successfully installed mujoco-3.1.6\n",
            "Collecting ipdb==0.13.3\n",
            "  Downloading ipdb-0.13.3.tar.gz (14 kB)\n",
            "  Preparing metadata (setup.py) ... \u001b[?25l\u001b[?25hdone\n",
            "Requirement already satisfied: setuptools in /usr/local/lib/python3.10/dist-packages (from ipdb==0.13.3) (67.7.2)\n",
            "Requirement already satisfied: ipython>=5.1.0 in /usr/local/lib/python3.10/dist-packages (from ipdb==0.13.3) (7.34.0)\n",
            "Collecting jedi>=0.16 (from ipython>=5.1.0->ipdb==0.13.3)\n",
            "  Downloading jedi-0.19.1-py2.py3-none-any.whl (1.6 MB)\n",
            "\u001b[2K     \u001b[90m━━━━━━━━━━━━━━━━━━━━━━━━━━━━━━━━━━━━━━━━\u001b[0m \u001b[32m1.6/1.6 MB\u001b[0m \u001b[31m11.0 MB/s\u001b[0m eta \u001b[36m0:00:00\u001b[0m\n",
            "\u001b[?25hRequirement already satisfied: decorator in /usr/local/lib/python3.10/dist-packages (from ipython>=5.1.0->ipdb==0.13.3) (4.4.2)\n",
            "Requirement already satisfied: pickleshare in /usr/local/lib/python3.10/dist-packages (from ipython>=5.1.0->ipdb==0.13.3) (0.7.5)\n",
            "Requirement already satisfied: traitlets>=4.2 in /usr/local/lib/python3.10/dist-packages (from ipython>=5.1.0->ipdb==0.13.3) (5.7.1)\n",
            "Requirement already satisfied: prompt-toolkit!=3.0.0,!=3.0.1,<3.1.0,>=2.0.0 in /usr/local/lib/python3.10/dist-packages (from ipython>=5.1.0->ipdb==0.13.3) (3.0.45)\n",
            "Requirement already satisfied: pygments in /usr/local/lib/python3.10/dist-packages (from ipython>=5.1.0->ipdb==0.13.3) (2.16.1)\n",
            "Requirement already satisfied: backcall in /usr/local/lib/python3.10/dist-packages (from ipython>=5.1.0->ipdb==0.13.3) (0.2.0)\n",
            "Requirement already satisfied: matplotlib-inline in /usr/local/lib/python3.10/dist-packages (from ipython>=5.1.0->ipdb==0.13.3) (0.1.7)\n",
            "Requirement already satisfied: pexpect>4.3 in /usr/local/lib/python3.10/dist-packages (from ipython>=5.1.0->ipdb==0.13.3) (4.9.0)\n",
            "Requirement already satisfied: parso<0.9.0,>=0.8.3 in /usr/local/lib/python3.10/dist-packages (from jedi>=0.16->ipython>=5.1.0->ipdb==0.13.3) (0.8.4)\n",
            "Requirement already satisfied: ptyprocess>=0.5 in /usr/local/lib/python3.10/dist-packages (from pexpect>4.3->ipython>=5.1.0->ipdb==0.13.3) (0.7.0)\n",
            "Requirement already satisfied: wcwidth in /usr/local/lib/python3.10/dist-packages (from prompt-toolkit!=3.0.0,!=3.0.1,<3.1.0,>=2.0.0->ipython>=5.1.0->ipdb==0.13.3) (0.2.13)\n",
            "Building wheels for collected packages: ipdb\n",
            "  Building wheel for ipdb (setup.py) ... \u001b[?25l\u001b[?25hdone\n",
            "  Created wheel for ipdb: filename=ipdb-0.13.3-py3-none-any.whl size=10852 sha256=bd3a158da4618a92fdc6f2418e8fbf60eed45e98a2ac5c20ddc6f6eb144c091d\n",
            "  Stored in directory: /root/.cache/pip/wheels/1c/a0/ff/f5310e4965f14639d03daadc11183850bfe2b2c90a961a8001\n",
            "Successfully built ipdb\n",
            "Installing collected packages: jedi, ipdb\n",
            "Successfully installed ipdb-0.13.3 jedi-0.19.1\n",
            "Collecting ray\n",
            "  Downloading ray-2.23.0-cp310-cp310-manylinux2014_x86_64.whl (65.7 MB)\n",
            "\u001b[2K     \u001b[90m━━━━━━━━━━━━━━━━━━━━━━━━━━━━━━━━━━━━━━━━\u001b[0m \u001b[32m65.7/65.7 MB\u001b[0m \u001b[31m9.4 MB/s\u001b[0m eta \u001b[36m0:00:00\u001b[0m\n",
            "\u001b[?25hRequirement already satisfied: click>=7.0 in /usr/local/lib/python3.10/dist-packages (from ray) (8.1.7)\n",
            "Requirement already satisfied: filelock in /usr/local/lib/python3.10/dist-packages (from ray) (3.14.0)\n",
            "Requirement already satisfied: jsonschema in /usr/local/lib/python3.10/dist-packages (from ray) (4.19.2)\n",
            "Requirement already satisfied: msgpack<2.0.0,>=1.0.0 in /usr/local/lib/python3.10/dist-packages (from ray) (1.0.8)\n",
            "Requirement already satisfied: packaging in /usr/local/lib/python3.10/dist-packages (from ray) (24.0)\n",
            "Requirement already satisfied: protobuf!=3.19.5,>=3.15.3 in /usr/local/lib/python3.10/dist-packages (from ray) (3.20.3)\n",
            "Requirement already satisfied: pyyaml in /usr/local/lib/python3.10/dist-packages (from ray) (6.0.1)\n",
            "Requirement already satisfied: aiosignal in /usr/local/lib/python3.10/dist-packages (from ray) (1.3.1)\n",
            "Requirement already satisfied: frozenlist in /usr/local/lib/python3.10/dist-packages (from ray) (1.4.1)\n",
            "Requirement already satisfied: requests in /usr/local/lib/python3.10/dist-packages (from ray) (2.31.0)\n",
            "Requirement already satisfied: attrs>=22.2.0 in /usr/local/lib/python3.10/dist-packages (from jsonschema->ray) (23.2.0)\n",
            "Requirement already satisfied: jsonschema-specifications>=2023.03.6 in /usr/local/lib/python3.10/dist-packages (from jsonschema->ray) (2023.12.1)\n",
            "Requirement already satisfied: referencing>=0.28.4 in /usr/local/lib/python3.10/dist-packages (from jsonschema->ray) (0.35.1)\n",
            "Requirement already satisfied: rpds-py>=0.7.1 in /usr/local/lib/python3.10/dist-packages (from jsonschema->ray) (0.18.1)\n",
            "Requirement already satisfied: charset-normalizer<4,>=2 in /usr/local/lib/python3.10/dist-packages (from requests->ray) (3.3.2)\n",
            "Requirement already satisfied: idna<4,>=2.5 in /usr/local/lib/python3.10/dist-packages (from requests->ray) (3.7)\n",
            "Requirement already satisfied: urllib3<3,>=1.21.1 in /usr/local/lib/python3.10/dist-packages (from requests->ray) (2.0.7)\n",
            "Requirement already satisfied: certifi>=2017.4.17 in /usr/local/lib/python3.10/dist-packages (from requests->ray) (2024.2.2)\n",
            "Installing collected packages: ray\n",
            "Successfully installed ray-2.23.0\n",
            "Requirement already satisfied: tqdm in /usr/local/lib/python3.10/dist-packages (4.66.4)\n",
            "Collecting pyvirtualdisplay\n",
            "  Downloading PyVirtualDisplay-3.0-py3-none-any.whl (15 kB)\n",
            "Installing collected packages: pyvirtualdisplay\n",
            "Successfully installed pyvirtualdisplay-3.0\n"
          ]
        }
      ],
      "source": [
        "# ! git clone https://github.com/openai/gym.git\n",
        "# !pip install -e /content/gym\n",
        "!pip install gym==0.22\n",
        "!pip install free-mujoco-py\n",
        "!pip install moviepy==1.0.0\n",
        "# !pip install tensorboard==2.3.0 tensorboardX==1.8 matplotlib ipython==6.4.0 moviepy==1.0.0 pyvirtualdisplay==1.3.2\n",
        "!pip install torch\n",
        "!pip install mujoco\n",
        "# !pip install opencv-python==4.4.0.42\n",
        "!pip install ipdb==0.13.3\n",
        "!pip install ray\n",
        "!pip install tqdm\n",
        "! pip install pyvirtualdisplay"
      ]
    },
    {
      "cell_type": "code",
      "execution_count": null,
      "metadata": {
        "colab": {
          "base_uri": "https://localhost:8080/"
        },
        "id": "zYAN5tlUpcop",
        "outputId": "a02e9bcd-42b0-4c33-804e-d96123516d8f"
      },
      "outputs": [
        {
          "output_type": "stream",
          "name": "stdout",
          "text": [
            "Cloning into 'relax_dyna_q_example'...\n",
            "remote: Enumerating objects: 96, done.\u001b[K\n",
            "remote: Counting objects: 100% (45/45), done.\u001b[K\n",
            "remote: Compressing objects: 100% (45/45), done.\u001b[K\n",
            "remote: Total 96 (delta 24), reused 4 (delta 0), pack-reused 51\u001b[K\n",
            "Receiving objects: 100% (96/96), 95.76 MiB | 37.64 MiB/s, done.\n",
            "Resolving deltas: 100% (24/24), done.\n",
            "Cloning into 'relax'...\n",
            "remote: Enumerating objects: 535, done.\u001b[K\n",
            "remote: Counting objects: 100% (155/155), done.\u001b[K\n",
            "remote: Compressing objects: 100% (113/113), done.\u001b[K\n",
            "remote: Total 535 (delta 103), reused 79 (delta 42), pack-reused 380\u001b[K\n",
            "Receiving objects: 100% (535/535), 198.21 KiB | 6.19 MiB/s, done.\n",
            "Resolving deltas: 100% (333/333), done.\n"
          ]
        }
      ],
      "source": [
        "! git clone https://github.com/nslyubaykin/relax_dyna_q_example.git\n",
        "! git clone https://github.com/nslyubaykin/relax.git"
      ]
    },
    {
      "cell_type": "code",
      "execution_count": null,
      "metadata": {
        "colab": {
          "base_uri": "https://localhost:8080/"
        },
        "id": "vwQ636lKa1QH",
        "outputId": "f057ff65-e46e-4b2c-d216-414f2b57fec6"
      },
      "outputs": [
        {
          "output_type": "stream",
          "name": "stdout",
          "text": [
            "Reading package lists... Done\n",
            "Building dependency tree... Done\n",
            "Reading state information... Done\n",
            "software-properties-common is already the newest version (0.99.22.9).\n",
            "The following additional packages will be installed:\n",
            "  libegl-dev libgl-dev libgles-dev libgles1 libglu1-mesa libglu1-mesa-dev libglvnd-core-dev\n",
            "  libglvnd-dev libglx-dev libopengl-dev libosmesa6\n",
            "The following NEW packages will be installed:\n",
            "  libegl-dev libgl-dev libgl1-mesa-dev libgl1-mesa-glx libgles-dev libgles1 libglew-dev\n",
            "  libglu1-mesa libglu1-mesa-dev libglvnd-core-dev libglvnd-dev libglx-dev libopengl-dev libosmesa6\n",
            "  libosmesa6-dev\n",
            "0 upgraded, 15 newly installed, 0 to remove and 45 not upgraded.\n",
            "Need to get 4,020 kB of archives.\n",
            "After this operation, 19.4 MB of additional disk space will be used.\n",
            "Get:1 http://archive.ubuntu.com/ubuntu jammy/main amd64 libglx-dev amd64 1.4.0-1 [14.1 kB]\n",
            "Get:2 http://archive.ubuntu.com/ubuntu jammy/main amd64 libgl-dev amd64 1.4.0-1 [101 kB]\n",
            "Get:3 http://archive.ubuntu.com/ubuntu jammy/main amd64 libegl-dev amd64 1.4.0-1 [18.0 kB]\n",
            "Get:4 http://archive.ubuntu.com/ubuntu jammy-updates/universe amd64 libgl1-mesa-glx amd64 23.0.4-0ubuntu1~22.04.1 [5,584 B]\n",
            "Get:5 http://archive.ubuntu.com/ubuntu jammy/main amd64 libgles1 amd64 1.4.0-1 [11.5 kB]\n",
            "Get:6 http://archive.ubuntu.com/ubuntu jammy/main amd64 libgles-dev amd64 1.4.0-1 [49.4 kB]\n",
            "Get:7 http://archive.ubuntu.com/ubuntu jammy/main amd64 libglvnd-core-dev amd64 1.4.0-1 [12.7 kB]\n",
            "Get:8 http://archive.ubuntu.com/ubuntu jammy/main amd64 libopengl-dev amd64 1.4.0-1 [3,400 B]\n",
            "Get:9 http://archive.ubuntu.com/ubuntu jammy/main amd64 libglvnd-dev amd64 1.4.0-1 [3,162 B]\n",
            "Get:10 http://archive.ubuntu.com/ubuntu jammy-updates/main amd64 libgl1-mesa-dev amd64 23.2.1-1ubuntu3.1~22.04.2 [6,842 B]\n",
            "Get:11 http://archive.ubuntu.com/ubuntu jammy/main amd64 libglu1-mesa amd64 9.0.2-1 [145 kB]\n",
            "Get:12 http://archive.ubuntu.com/ubuntu jammy/main amd64 libglu1-mesa-dev amd64 9.0.2-1 [231 kB]\n",
            "Get:13 http://archive.ubuntu.com/ubuntu jammy/universe amd64 libglew-dev amd64 2.2.0-4 [287 kB]\n",
            "Get:14 http://archive.ubuntu.com/ubuntu jammy-updates/main amd64 libosmesa6 amd64 23.2.1-1ubuntu3.1~22.04.2 [3,121 kB]\n",
            "Get:15 http://archive.ubuntu.com/ubuntu jammy-updates/main amd64 libosmesa6-dev amd64 23.2.1-1ubuntu3.1~22.04.2 [8,984 B]\n",
            "Fetched 4,020 kB in 2s (2,051 kB/s)\n",
            "Selecting previously unselected package libglx-dev:amd64.\n",
            "(Reading database ... 121918 files and directories currently installed.)\n",
            "Preparing to unpack .../00-libglx-dev_1.4.0-1_amd64.deb ...\n",
            "Unpacking libglx-dev:amd64 (1.4.0-1) ...\n",
            "Selecting previously unselected package libgl-dev:amd64.\n",
            "Preparing to unpack .../01-libgl-dev_1.4.0-1_amd64.deb ...\n",
            "Unpacking libgl-dev:amd64 (1.4.0-1) ...\n",
            "Selecting previously unselected package libegl-dev:amd64.\n",
            "Preparing to unpack .../02-libegl-dev_1.4.0-1_amd64.deb ...\n",
            "Unpacking libegl-dev:amd64 (1.4.0-1) ...\n",
            "Selecting previously unselected package libgl1-mesa-glx:amd64.\n",
            "Preparing to unpack .../03-libgl1-mesa-glx_23.0.4-0ubuntu1~22.04.1_amd64.deb ...\n",
            "Unpacking libgl1-mesa-glx:amd64 (23.0.4-0ubuntu1~22.04.1) ...\n",
            "Selecting previously unselected package libgles1:amd64.\n",
            "Preparing to unpack .../04-libgles1_1.4.0-1_amd64.deb ...\n",
            "Unpacking libgles1:amd64 (1.4.0-1) ...\n",
            "Selecting previously unselected package libgles-dev:amd64.\n",
            "Preparing to unpack .../05-libgles-dev_1.4.0-1_amd64.deb ...\n",
            "Unpacking libgles-dev:amd64 (1.4.0-1) ...\n",
            "Selecting previously unselected package libglvnd-core-dev:amd64.\n",
            "Preparing to unpack .../06-libglvnd-core-dev_1.4.0-1_amd64.deb ...\n",
            "Unpacking libglvnd-core-dev:amd64 (1.4.0-1) ...\n",
            "Selecting previously unselected package libopengl-dev:amd64.\n",
            "Preparing to unpack .../07-libopengl-dev_1.4.0-1_amd64.deb ...\n",
            "Unpacking libopengl-dev:amd64 (1.4.0-1) ...\n",
            "Selecting previously unselected package libglvnd-dev:amd64.\n",
            "Preparing to unpack .../08-libglvnd-dev_1.4.0-1_amd64.deb ...\n",
            "Unpacking libglvnd-dev:amd64 (1.4.0-1) ...\n",
            "Selecting previously unselected package libgl1-mesa-dev:amd64.\n",
            "Preparing to unpack .../09-libgl1-mesa-dev_23.2.1-1ubuntu3.1~22.04.2_amd64.deb ...\n",
            "Unpacking libgl1-mesa-dev:amd64 (23.2.1-1ubuntu3.1~22.04.2) ...\n",
            "Selecting previously unselected package libglu1-mesa:amd64.\n",
            "Preparing to unpack .../10-libglu1-mesa_9.0.2-1_amd64.deb ...\n",
            "Unpacking libglu1-mesa:amd64 (9.0.2-1) ...\n",
            "Selecting previously unselected package libglu1-mesa-dev:amd64.\n",
            "Preparing to unpack .../11-libglu1-mesa-dev_9.0.2-1_amd64.deb ...\n",
            "Unpacking libglu1-mesa-dev:amd64 (9.0.2-1) ...\n",
            "Selecting previously unselected package libglew-dev:amd64.\n",
            "Preparing to unpack .../12-libglew-dev_2.2.0-4_amd64.deb ...\n",
            "Unpacking libglew-dev:amd64 (2.2.0-4) ...\n",
            "Selecting previously unselected package libosmesa6:amd64.\n",
            "Preparing to unpack .../13-libosmesa6_23.2.1-1ubuntu3.1~22.04.2_amd64.deb ...\n",
            "Unpacking libosmesa6:amd64 (23.2.1-1ubuntu3.1~22.04.2) ...\n",
            "Selecting previously unselected package libosmesa6-dev:amd64.\n",
            "Preparing to unpack .../14-libosmesa6-dev_23.2.1-1ubuntu3.1~22.04.2_amd64.deb ...\n",
            "Unpacking libosmesa6-dev:amd64 (23.2.1-1ubuntu3.1~22.04.2) ...\n",
            "Setting up libglvnd-core-dev:amd64 (1.4.0-1) ...\n",
            "Setting up libgles1:amd64 (1.4.0-1) ...\n",
            "Setting up libgl1-mesa-glx:amd64 (23.0.4-0ubuntu1~22.04.1) ...\n",
            "Setting up libglx-dev:amd64 (1.4.0-1) ...\n",
            "Setting up libglu1-mesa:amd64 (9.0.2-1) ...\n",
            "Setting up libopengl-dev:amd64 (1.4.0-1) ...\n",
            "Setting up libgl-dev:amd64 (1.4.0-1) ...\n",
            "Setting up libosmesa6:amd64 (23.2.1-1ubuntu3.1~22.04.2) ...\n",
            "Setting up libegl-dev:amd64 (1.4.0-1) ...\n",
            "Setting up libglu1-mesa-dev:amd64 (9.0.2-1) ...\n",
            "Setting up libosmesa6-dev:amd64 (23.2.1-1ubuntu3.1~22.04.2) ...\n",
            "Setting up libgles-dev:amd64 (1.4.0-1) ...\n",
            "Setting up libglvnd-dev:amd64 (1.4.0-1) ...\n",
            "Setting up libglew-dev:amd64 (2.2.0-4) ...\n",
            "Setting up libgl1-mesa-dev:amd64 (23.2.1-1ubuntu3.1~22.04.2) ...\n",
            "Processing triggers for libc-bin (2.35-0ubuntu3.4) ...\n",
            "/sbin/ldconfig.real: /usr/local/lib/libtbbbind.so.3 is not a symbolic link\n",
            "\n",
            "/sbin/ldconfig.real: /usr/local/lib/libtbbmalloc.so.2 is not a symbolic link\n",
            "\n",
            "/sbin/ldconfig.real: /usr/local/lib/libtbbbind_2_0.so.3 is not a symbolic link\n",
            "\n",
            "/sbin/ldconfig.real: /usr/local/lib/libtbbbind_2_5.so.3 is not a symbolic link\n",
            "\n",
            "/sbin/ldconfig.real: /usr/local/lib/libtbbmalloc_proxy.so.2 is not a symbolic link\n",
            "\n",
            "/sbin/ldconfig.real: /usr/local/lib/libtbb.so.12 is not a symbolic link\n",
            "\n",
            "Reading package lists... Done\n",
            "Building dependency tree... Done\n",
            "Reading state information... Done\n",
            "The following NEW packages will be installed:\n",
            "  patchelf\n",
            "0 upgraded, 1 newly installed, 0 to remove and 45 not upgraded.\n",
            "Need to get 72.1 kB of archives.\n",
            "After this operation, 186 kB of additional disk space will be used.\n",
            "Get:1 http://archive.ubuntu.com/ubuntu jammy/universe amd64 patchelf amd64 0.14.3-1 [72.1 kB]\n",
            "Fetched 72.1 kB in 0s (231 kB/s)\n",
            "Selecting previously unselected package patchelf.\n",
            "(Reading database ... 122058 files and directories currently installed.)\n",
            "Preparing to unpack .../patchelf_0.14.3-1_amd64.deb ...\n",
            "Unpacking patchelf (0.14.3-1) ...\n",
            "Setting up patchelf (0.14.3-1) ...\n",
            "Processing triggers for man-db (2.10.2-1) ...\n",
            "Reading package lists... Done\n",
            "Building dependency tree... Done\n",
            "Reading state information... Done\n",
            "The following additional packages will be installed:\n",
            "  libfontenc1 libxfont2 libxkbfile1 x11-xkb-utils xfonts-base xfonts-encodings\n",
            "  xfonts-utils xserver-common\n",
            "The following NEW packages will be installed:\n",
            "  libfontenc1 libxfont2 libxkbfile1 x11-xkb-utils xfonts-base xfonts-encodings\n",
            "  xfonts-utils xserver-common xvfb\n",
            "0 upgraded, 9 newly installed, 0 to remove and 45 not upgraded.\n",
            "Need to get 7,813 kB of archives.\n",
            "After this operation, 11.9 MB of additional disk space will be used.\n",
            "Get:1 http://archive.ubuntu.com/ubuntu jammy/main amd64 libfontenc1 amd64 1:1.1.4-1build3 [14.7 kB]\n",
            "Get:2 http://archive.ubuntu.com/ubuntu jammy/main amd64 libxfont2 amd64 1:2.0.5-1build1 [94.5 kB]\n",
            "Get:3 http://archive.ubuntu.com/ubuntu jammy/main amd64 libxkbfile1 amd64 1:1.1.0-1build3 [71.8 kB]\n",
            "Get:4 http://archive.ubuntu.com/ubuntu jammy/main amd64 x11-xkb-utils amd64 7.7+5build4 [172 kB]\n",
            "Get:5 http://archive.ubuntu.com/ubuntu jammy/main amd64 xfonts-encodings all 1:1.0.5-0ubuntu2 [578 kB]\n",
            "Get:6 http://archive.ubuntu.com/ubuntu jammy/main amd64 xfonts-utils amd64 1:7.7+6build2 [94.6 kB]\n",
            "Get:7 http://archive.ubuntu.com/ubuntu jammy/main amd64 xfonts-base all 1:1.0.5 [5,896 kB]\n",
            "Get:8 http://archive.ubuntu.com/ubuntu jammy-updates/main amd64 xserver-common all 2:21.1.4-2ubuntu1.7~22.04.10 [28.5 kB]\n",
            "Get:9 http://archive.ubuntu.com/ubuntu jammy-updates/universe amd64 xvfb amd64 2:21.1.4-2ubuntu1.7~22.04.10 [863 kB]\n",
            "Fetched 7,813 kB in 1s (7,790 kB/s)\n",
            "debconf: unable to initialize frontend: Dialog\n",
            "debconf: (No usable dialog-like program is installed, so the dialog based frontend cannot be used. at /usr/share/perl5/Debconf/FrontEnd/Dialog.pm line 78, <> line 9.)\n",
            "debconf: falling back to frontend: Readline\n",
            "debconf: unable to initialize frontend: Readline\n",
            "debconf: (This frontend requires a controlling tty.)\n",
            "debconf: falling back to frontend: Teletype\n",
            "dpkg-preconfigure: unable to re-open stdin: \n",
            "Selecting previously unselected package libfontenc1:amd64.\n",
            "(Reading database ... 122064 files and directories currently installed.)\n",
            "Preparing to unpack .../0-libfontenc1_1%3a1.1.4-1build3_amd64.deb ...\n",
            "Unpacking libfontenc1:amd64 (1:1.1.4-1build3) ...\n",
            "Selecting previously unselected package libxfont2:amd64.\n",
            "Preparing to unpack .../1-libxfont2_1%3a2.0.5-1build1_amd64.deb ...\n",
            "Unpacking libxfont2:amd64 (1:2.0.5-1build1) ...\n",
            "Selecting previously unselected package libxkbfile1:amd64.\n",
            "Preparing to unpack .../2-libxkbfile1_1%3a1.1.0-1build3_amd64.deb ...\n",
            "Unpacking libxkbfile1:amd64 (1:1.1.0-1build3) ...\n",
            "Selecting previously unselected package x11-xkb-utils.\n",
            "Preparing to unpack .../3-x11-xkb-utils_7.7+5build4_amd64.deb ...\n",
            "Unpacking x11-xkb-utils (7.7+5build4) ...\n",
            "Selecting previously unselected package xfonts-encodings.\n",
            "Preparing to unpack .../4-xfonts-encodings_1%3a1.0.5-0ubuntu2_all.deb ...\n",
            "Unpacking xfonts-encodings (1:1.0.5-0ubuntu2) ...\n",
            "Selecting previously unselected package xfonts-utils.\n",
            "Preparing to unpack .../5-xfonts-utils_1%3a7.7+6build2_amd64.deb ...\n",
            "Unpacking xfonts-utils (1:7.7+6build2) ...\n",
            "Selecting previously unselected package xfonts-base.\n",
            "Preparing to unpack .../6-xfonts-base_1%3a1.0.5_all.deb ...\n",
            "Unpacking xfonts-base (1:1.0.5) ...\n",
            "Selecting previously unselected package xserver-common.\n",
            "Preparing to unpack .../7-xserver-common_2%3a21.1.4-2ubuntu1.7~22.04.10_all.deb ...\n",
            "Unpacking xserver-common (2:21.1.4-2ubuntu1.7~22.04.10) ...\n",
            "Selecting previously unselected package xvfb.\n",
            "Preparing to unpack .../8-xvfb_2%3a21.1.4-2ubuntu1.7~22.04.10_amd64.deb ...\n",
            "Unpacking xvfb (2:21.1.4-2ubuntu1.7~22.04.10) ...\n",
            "Setting up libfontenc1:amd64 (1:1.1.4-1build3) ...\n",
            "Setting up xfonts-encodings (1:1.0.5-0ubuntu2) ...\n",
            "Setting up libxkbfile1:amd64 (1:1.1.0-1build3) ...\n",
            "Setting up libxfont2:amd64 (1:2.0.5-1build1) ...\n",
            "Setting up x11-xkb-utils (7.7+5build4) ...\n",
            "Setting up xfonts-utils (1:7.7+6build2) ...\n",
            "Setting up xfonts-base (1:1.0.5) ...\n",
            "Setting up xserver-common (2:21.1.4-2ubuntu1.7~22.04.10) ...\n",
            "Setting up xvfb (2:21.1.4-2ubuntu1.7~22.04.10) ...\n",
            "Processing triggers for man-db (2.10.2-1) ...\n",
            "Processing triggers for fontconfig (2.13.1-4.2ubuntu5) ...\n",
            "Processing triggers for libc-bin (2.35-0ubuntu3.4) ...\n",
            "/sbin/ldconfig.real: /usr/local/lib/libtbbbind.so.3 is not a symbolic link\n",
            "\n",
            "/sbin/ldconfig.real: /usr/local/lib/libtbbmalloc.so.2 is not a symbolic link\n",
            "\n",
            "/sbin/ldconfig.real: /usr/local/lib/libtbbbind_2_0.so.3 is not a symbolic link\n",
            "\n",
            "/sbin/ldconfig.real: /usr/local/lib/libtbbbind_2_5.so.3 is not a symbolic link\n",
            "\n",
            "/sbin/ldconfig.real: /usr/local/lib/libtbbmalloc_proxy.so.2 is not a symbolic link\n",
            "\n",
            "/sbin/ldconfig.real: /usr/local/lib/libtbb.so.12 is not a symbolic link\n",
            "\n"
          ]
        }
      ],
      "source": [
        "!apt-get install -y \\\n",
        "    libgl1-mesa-dev \\\n",
        "    libgl1-mesa-glx \\\n",
        "    libglew-dev \\\n",
        "    libosmesa6-dev \\\n",
        "    software-properties-common\n",
        "\n",
        "!apt-get install -y patchelf\n",
        "!sudo apt-get install xvfb"
      ]
    },
    {
      "cell_type": "code",
      "execution_count": null,
      "metadata": {
        "colab": {
          "base_uri": "https://localhost:8080/"
        },
        "id": "wPigG_cW4U0e",
        "outputId": "4693548e-0008-4bef-f403-53dcb1efcf4a"
      },
      "outputs": [
        {
          "output_type": "stream",
          "name": "stdout",
          "text": [
            "/content/relax\n"
          ]
        },
        {
          "output_type": "stream",
          "name": "stderr",
          "text": [
            "\n"
          ]
        }
      ],
      "source": [
        "%cd /content/relax\n",
        "import gym\n",
        "import torch\n",
        "import numpy as np\n",
        "import matplotlib.pyplot as plt\n",
        "\n",
        "from tqdm import tqdm\n",
        "from inspect import getsource\n",
        "from torch.utils.tensorboard import SummaryWriter\n",
        "\n",
        "from relax.rl.actors import TD3, RandomUniform\n",
        "from relax.rl.critics import CDQN\n",
        "from relax.rl.models import DeltaEnvModel\n",
        "\n",
        "from relax.zoo.policies import DeterministicMLP\n",
        "from relax.zoo.critics import ContQMLP\n",
        "from relax.zoo.models import ContObsContAcsToObsMLP, ContObsContAcsToRewsMLP\n",
        "\n",
        "from relax.schedules import PiecewiseSchedule, LinearSchedule, CombinedSchedule\n",
        "from relax.exploration import RandomNormal\n",
        "\n",
        "from relax.data.sampling import Sampler\n",
        "from relax.data.replay_buffer import ReplayBuffer\n",
        "\n",
        "# from relax.gym.utils import visualize_actor\n",
        "from relax.gym.terminal_functions import walker2d_v2_terminal_fn"
      ]
    },
    {
      "cell_type": "code",
      "execution_count": null,
      "metadata": {
        "id": "ULsbAcIt4U0g"
      },
      "outputs": [],
      "source": [
        "def get_model(obs_dim, acs_dim,\n",
        "              terminal_function,\n",
        "              ensemble_size=7):\n",
        "\n",
        "    obs_models = []\n",
        "    rews_models = []\n",
        "    for i in range(ensemble_size):\n",
        "        obs_models.append(\n",
        "            ContObsContAcsToObsMLP(input_obs_dim=obs_dim, output_obs_dim=obs_dim,\n",
        "                                   acs_dim=acs_dim, nunits=250, nlayers=2) #350 for ant\n",
        "        )\n",
        "        rews_models.append(\n",
        "            ContObsContAcsToRewsMLP(input_obs_dim=obs_dim, acs_dim=acs_dim,\n",
        "                                    nunits=250, nlayers=2)\n",
        "        )\n",
        "\n",
        "    # Creating schedules:\n",
        "    # first 5000 iterations no learning - just data collection\n",
        "    model_lr = PiecewiseSchedule({0: 5000}, 1e-3)\n",
        "\n",
        "    model = DeltaEnvModel(\n",
        "        obs_models=obs_models,\n",
        "        device=torch.device('cuda'),\n",
        "        learning_rate=model_lr,\n",
        "        noise=0.01,\n",
        "        batch_size=512,\n",
        "        rews_models=rews_models,\n",
        "        terminal_function=terminal_function,\n",
        "        n_steps_per_update=1,\n",
        "        update_freq=10,\n",
        "        stats_recalc_freq=500,\n",
        "        random_agg=False,\n",
        "    )\n",
        "\n",
        "    return model"
      ]
    },
    {
      "cell_type": "markdown",
      "metadata": {
        "id": "OYoejodI4U0g"
      },
      "source": [
        "# Define TD3 actor and CDQN critic\n",
        "\n",
        "We will also wrap actor and critic definition in  a function to run it in a loop for multiple experiments. That is done in order to benchmark DYNA-Q-TD3 vs vanilla TD3"
      ]
    },
    {
      "cell_type": "code",
      "execution_count": null,
      "metadata": {
        "id": "xMRLQavE4U0g"
      },
      "outputs": [],
      "source": [
        "def get_actor_and_critic(obs_dim, acs_dim):\n",
        "\n",
        "    # Creating schedules:\n",
        "    # first 10000 iterations no learning - just data collection\n",
        "    policy_lr = PiecewiseSchedule({0: 10000}, 1e-3)\n",
        "    critic_lr = PiecewiseSchedule({0: 10000}, 1e-3)\n",
        "\n",
        "    schedule1 = PiecewiseSchedule({0.3: 10000}, 0.0)\n",
        "    schedule2 = LinearSchedule(0.1, 0, 1000000)\n",
        "    sigma_schedule = CombinedSchedule(schedule1, schedule2, max)\n",
        "\n",
        "    # Define exploration\n",
        "    exploration = RandomNormal(sigma=sigma_schedule,\n",
        "                               min_acs=-1.0,\n",
        "                               max_acs=1.0,\n",
        "                               n_random_steps=10000)\n",
        "\n",
        "    actor = TD3(\n",
        "        device=torch.device('cuda'),\n",
        "        mu_net=DeterministicMLP(obs_dim, acs_dim, out_activation=torch.nn.Tanh()),\n",
        "        learning_rate=policy_lr,\n",
        "        batch_size=100,\n",
        "        min_acs=-1.0,\n",
        "        max_acs=1.0,\n",
        "        exploration=exploration,\n",
        "    )\n",
        "\n",
        "    critic = CDQN(\n",
        "        critic_net=ContQMLP(obs_dim, acs_dim),\n",
        "        critic_net2=ContQMLP(obs_dim, acs_dim),\n",
        "        device=torch.device('cuda'),\n",
        "        learning_rate=critic_lr,\n",
        "        weight_decay=0.0\n",
        "    )\n",
        "\n",
        "    return actor, critic\n"
      ]
    },
    {
      "cell_type": "code",
      "execution_count": null,
      "metadata": {
        "id": "xHel02_s4U0g"
      },
      "outputs": [],
      "source": [
        "env_name = 'Walker2d-v2'\n",
        "terminal_function = walker2d_v2_terminal_fn\n",
        "\n",
        "acs_dim = 6\n",
        "obs_dim = 17\n",
        "n_experiments = 4\n",
        "n_steps = 1000000\n"
      ]
    },
    {
      "cell_type": "markdown",
      "metadata": {
        "id": "rJ6c4QdX4U0h"
      },
      "source": [
        "# Load Models"
      ]
    },
    {
      "cell_type": "code",
      "execution_count": null,
      "metadata": {
        "colab": {
          "base_uri": "https://localhost:8080/"
        },
        "id": "JlUQzbcndLEV",
        "outputId": "5ea05a0c-3c37-46f2-be8e-1c161673f776"
      },
      "outputs": [
        {
          "output_type": "stream",
          "name": "stdout",
          "text": [
            "/content\n",
            "/content/relax_dyna_q_example\n"
          ]
        }
      ],
      "source": [
        "%cd ..\n",
        "%cd relax_dyna_q_example\n"
      ]
    },
    {
      "cell_type": "code",
      "execution_count": null,
      "metadata": {
        "colab": {
          "base_uri": "https://localhost:8080/"
        },
        "id": "CvAF0yan4U0h",
        "outputId": "f93cb6b7-f554-4ce2-ed43-5424021b6c46"
      },
      "outputs": [
        {
          "output_type": "stream",
          "name": "stdout",
          "text": [
            "Loaded checkpoints for TD3...\n",
            "models_state_dict exploration_global_step global_step local_step n_updates n_target_updates optimizer n_policy_updates\n",
            "Loaded checkpoints for CDQN...\n",
            "models_state_dict global_step local_step n_updates n_target_updates optimizer optimizer2\n",
            "Loaded checkpoints for DeltaEnvModel...\n",
            "models_state_dict global_step local_step n_updates n_stats_updates n_model_resets updates_per_model obs_optimizer_0 obs_optimizer_1 obs_optimizer_2 obs_optimizer_3 obs_optimizer_4 obs_optimizer_5 obs_optimizer_6 rews_optimizer_0 rews_optimizer_1 rews_optimizer_2 rews_optimizer_3 rews_optimizer_4 rews_optimizer_5 rews_optimizer_6 buffer_stats\n"
          ]
        }
      ],
      "source": [
        "\n",
        "actor, critic = get_actor_and_critic(obs_dim=obs_dim, acs_dim=acs_dim)\n",
        "\n",
        "# Model\n",
        "model = get_model(obs_dim=obs_dim, acs_dim=acs_dim,\n",
        "                  terminal_function=terminal_function,\n",
        "                  ensemble_size=7)\n",
        "\n",
        "# provide actor with critic\n",
        "actor.set_critic(critic)\n",
        "\n",
        "# setting the schedule for acceleration horizon\n",
        "horizon_schedule = PiecewiseSchedule({0: 20000}, 1)\n",
        "\n",
        "# provide actor with model for acceleration\n",
        "actor.set_acceleration(model=model,\n",
        "                       actor=RandomUniform(acs_dim=acs_dim,\n",
        "                                           min_acs=-1,\n",
        "                                           max_acs=1),\n",
        "                       h=horizon_schedule,\n",
        "                       tau=3.0,\n",
        "                       real_ratio=0.0,\n",
        "                       train_sampling=True)\n",
        "\n",
        "# Saving models:\n",
        "actor.load_checkpoint('trained_models/dyna_q_td3', 'dyna_q_td3_Walker2d-v2_experiment_2_actor')\n",
        "critic.load_checkpoint('trained_models/dyna_q_td3', 'dyna_q_td3_Walker2d-v2_experiment_2_critic')\n",
        "model.load_checkpoint('trained_models/dyna_q_td3', 'dyna_q_td3_Walker2d-v2_experiment_2_model')"
      ]
    },
    {
      "cell_type": "markdown",
      "metadata": {
        "id": "n5e4xU404U0h"
      },
      "source": [
        "# Plot estimated vs actual Q-values"
      ]
    },
    {
      "cell_type": "code",
      "execution_count": null,
      "metadata": {
        "colab": {
          "base_uri": "https://localhost:8080/"
        },
        "id": "j1tJHqjJmJCU",
        "outputId": "35d57702-d6de-415b-8b04-bd97d6ade6a7"
      },
      "outputs": [
        {
          "output_type": "stream",
          "name": "stderr",
          "text": [
            "/usr/local/lib/python3.10/dist-packages/gym/envs/registration.py:505: UserWarning: \u001b[33mWARN: The environment Walker2d-v2 is out of date. You should consider upgrading to version `v3` with the environment ID `Walker2d-v3`.\u001b[0m\n",
            "  logger.warn(\n"
          ]
        },
        {
          "output_type": "stream",
          "name": "stdout",
          "text": [
            "Compiling /usr/local/lib/python3.10/dist-packages/mujoco_py/cymj.pyx because it changed.\n",
            "[1/1] Cythonizing /usr/local/lib/python3.10/dist-packages/mujoco_py/cymj.pyx\n"
          ]
        },
        {
          "output_type": "stream",
          "name": "stderr",
          "text": [
            "INFO:root:running build_ext\n",
            "INFO:root:building 'mujoco_py.cymj' extension\n",
            "INFO:root:creating /usr/local/lib/python3.10/dist-packages/mujoco_py/generated/_pyxbld_2.0.2.13_310_linuxcpuextensionbuilder\n",
            "INFO:root:creating /usr/local/lib/python3.10/dist-packages/mujoco_py/generated/_pyxbld_2.0.2.13_310_linuxcpuextensionbuilder/temp.linux-x86_64-cpython-310\n",
            "INFO:root:creating /usr/local/lib/python3.10/dist-packages/mujoco_py/generated/_pyxbld_2.0.2.13_310_linuxcpuextensionbuilder/temp.linux-x86_64-cpython-310/usr\n",
            "INFO:root:creating /usr/local/lib/python3.10/dist-packages/mujoco_py/generated/_pyxbld_2.0.2.13_310_linuxcpuextensionbuilder/temp.linux-x86_64-cpython-310/usr/local\n",
            "INFO:root:creating /usr/local/lib/python3.10/dist-packages/mujoco_py/generated/_pyxbld_2.0.2.13_310_linuxcpuextensionbuilder/temp.linux-x86_64-cpython-310/usr/local/lib\n",
            "INFO:root:creating /usr/local/lib/python3.10/dist-packages/mujoco_py/generated/_pyxbld_2.0.2.13_310_linuxcpuextensionbuilder/temp.linux-x86_64-cpython-310/usr/local/lib/python3.10\n",
            "INFO:root:creating /usr/local/lib/python3.10/dist-packages/mujoco_py/generated/_pyxbld_2.0.2.13_310_linuxcpuextensionbuilder/temp.linux-x86_64-cpython-310/usr/local/lib/python3.10/dist-packages\n",
            "INFO:root:creating /usr/local/lib/python3.10/dist-packages/mujoco_py/generated/_pyxbld_2.0.2.13_310_linuxcpuextensionbuilder/temp.linux-x86_64-cpython-310/usr/local/lib/python3.10/dist-packages/mujoco_py\n",
            "INFO:root:creating /usr/local/lib/python3.10/dist-packages/mujoco_py/generated/_pyxbld_2.0.2.13_310_linuxcpuextensionbuilder/temp.linux-x86_64-cpython-310/usr/local/lib/python3.10/dist-packages/mujoco_py/gl\n",
            "INFO:root:x86_64-linux-gnu-gcc -Wno-unused-result -Wsign-compare -DNDEBUG -g -fwrapv -O2 -Wall -g -fstack-protector-strong -Wformat -Werror=format-security -g -fwrapv -O2 -fPIC -I/usr/local/lib/python3.10/dist-packages/mujoco_py -I/usr/local/lib/python3.10/dist-packages/mujoco_py/binaries/linux/mujoco210/include -I/usr/local/lib/python3.10/dist-packages/numpy/core/include -I/usr/include/python3.10 -c /usr/local/lib/python3.10/dist-packages/mujoco_py/cymj.c -o /usr/local/lib/python3.10/dist-packages/mujoco_py/generated/_pyxbld_2.0.2.13_310_linuxcpuextensionbuilder/temp.linux-x86_64-cpython-310/usr/local/lib/python3.10/dist-packages/mujoco_py/cymj.o -fopenmp -w\n",
            "INFO:root:x86_64-linux-gnu-gcc -Wno-unused-result -Wsign-compare -DNDEBUG -g -fwrapv -O2 -Wall -g -fstack-protector-strong -Wformat -Werror=format-security -g -fwrapv -O2 -fPIC -I/usr/local/lib/python3.10/dist-packages/mujoco_py -I/usr/local/lib/python3.10/dist-packages/mujoco_py/binaries/linux/mujoco210/include -I/usr/local/lib/python3.10/dist-packages/numpy/core/include -I/usr/include/python3.10 -c /usr/local/lib/python3.10/dist-packages/mujoco_py/gl/osmesashim.c -o /usr/local/lib/python3.10/dist-packages/mujoco_py/generated/_pyxbld_2.0.2.13_310_linuxcpuextensionbuilder/temp.linux-x86_64-cpython-310/usr/local/lib/python3.10/dist-packages/mujoco_py/gl/osmesashim.o -fopenmp -w\n",
            "INFO:root:creating /usr/local/lib/python3.10/dist-packages/mujoco_py/generated/_pyxbld_2.0.2.13_310_linuxcpuextensionbuilder/lib.linux-x86_64-cpython-310\n",
            "INFO:root:creating /usr/local/lib/python3.10/dist-packages/mujoco_py/generated/_pyxbld_2.0.2.13_310_linuxcpuextensionbuilder/lib.linux-x86_64-cpython-310/mujoco_py\n",
            "INFO:root:x86_64-linux-gnu-gcc -shared -Wl,-O1 -Wl,-Bsymbolic-functions -Wl,-Bsymbolic-functions -g -fwrapv -O2 /usr/local/lib/python3.10/dist-packages/mujoco_py/generated/_pyxbld_2.0.2.13_310_linuxcpuextensionbuilder/temp.linux-x86_64-cpython-310/usr/local/lib/python3.10/dist-packages/mujoco_py/cymj.o /usr/local/lib/python3.10/dist-packages/mujoco_py/generated/_pyxbld_2.0.2.13_310_linuxcpuextensionbuilder/temp.linux-x86_64-cpython-310/usr/local/lib/python3.10/dist-packages/mujoco_py/gl/osmesashim.o -L/usr/local/lib/python3.10/dist-packages/mujoco_py/binaries/linux/mujoco210/bin -L/usr/lib/x86_64-linux-gnu -Wl,--enable-new-dtags,-R/usr/local/lib/python3.10/dist-packages/mujoco_py/binaries/linux/mujoco210/bin -lmujoco210 -lglewosmesa -lOSMesa -lGL -o /usr/local/lib/python3.10/dist-packages/mujoco_py/generated/_pyxbld_2.0.2.13_310_linuxcpuextensionbuilder/lib.linux-x86_64-cpython-310/mujoco_py/cymj.cpython-310-x86_64-linux-gnu.so -fopenmp\n"
          ]
        }
      ],
      "source": [
        "env_name = 'Walker2d-v2'\n",
        "eval_env = gym.make(env_name)\n",
        "eval_env.seed(np.random.randint(100))\n",
        "eval_sampler = Sampler(env=eval_env)"
      ]
    },
    {
      "cell_type": "markdown",
      "metadata": {
        "id": "8ib60F6d4U0i"
      },
      "source": [
        "# Visualize trained actor"
      ]
    },
    {
      "cell_type": "code",
      "execution_count": null,
      "metadata": {
        "id": "xEet2764nD_d"
      },
      "outputs": [],
      "source": [
        "import glob\n",
        "import io\n",
        "import base64\n",
        "import numpy as np\n",
        "\n",
        "from gym.wrappers import Monitor\n",
        "from gym import Wrapper\n",
        "from IPython.display import HTML\n",
        "from IPython import display as ipythondisplay\n",
        "from pyvirtualdisplay import Display\n",
        "\n",
        "from relax.data.sampling import Sampler\n",
        "\n"
      ]
    },
    {
      "cell_type": "code",
      "execution_count": null,
      "metadata": {
        "id": "iUCrmqzOgs0P"
      },
      "outputs": [],
      "source": [
        "def wrap_env(env):\n",
        "    env = Monitor(env, 'content/video', force=True)\n",
        "    return env\n",
        "\n",
        "def show_video_func():\n",
        "    mp4list = glob.glob('content/video/*.mp4')\n",
        "    if len(mp4list) > 0:\n",
        "        mp4 = mp4list[0]\n",
        "        video = io.open(mp4, 'r+b').read()\n",
        "        encoded = base64.b64encode(video)\n",
        "        ipythondisplay.display(HTML(data='''<video alt=\"test\" autoplay\n",
        "                    loop controls style=\"height: 400px;\">\n",
        "                    <source src=\"data:video/mp4;base64,{0}\" type=\"video/mp4\" />\n",
        "                 </video>'''.format(encoded.decode('ascii'))))\n",
        "    else:\n",
        "        print(\"Could not find video\")\n",
        "\n",
        "def set_random_initial_state(smp,incline_angle=0, case_number=1):\n",
        "    env = smp.env\n",
        "    env.reset()\n",
        "    # Assuming the environment is of type 'Walker2d-v3' with specific qpos and qvel attributes\n",
        "    qpos = env.env.sim.data.qpos\n",
        "    qvel = env.env.sim.data.qvel\n",
        "    # print(qpos)\n",
        "    # print(qvel)\n",
        "\n",
        "    if case_number == 1:\n",
        "      qpos[1:2] =  qpos[1:2]+ np.random.uniform(low=-0.005, high=0.005, size=1)  # Randomize root position (excluding x-axis)\n",
        "      qpos[2:] = qpos[2:] + np.random.uniform(low=-0.005, high=0.005, size=qpos[2:].shape)  # Randomize joint positions\n",
        "      qvel[:] = qvel[:] + np.random.uniform(low=-0.005, high=0.005, size=qvel.shape)  # Randomize velocities\n",
        "\n",
        "    if case_number == 2:\n",
        "      qpos[1:2] =  qpos[1:2]+ np.random.uniform(low=-0.05, high=0.05, size=1)  # Randomize root position (excluding x-axis)\n",
        "      qpos[2:] = qpos[2:] + np.random.uniform(low=-0.087, high=0.087, size=qpos[2:].shape)  # Randomize joint positions\n",
        "      qvel[:] = qvel[:] + np.random.uniform(low=-0.05, high=0.05, size=qvel.shape)  # Randomize velocities\n",
        "\n",
        "    if case_number == 3:\n",
        "      qpos[1:2] =  qpos[1:2]+ np.random.uniform(low=-0.1, high=0.1, size=1)  # Randomize root position (excluding x-axis)\n",
        "      qpos[2:] = qpos[2:] + np.random.uniform(low=-0.17, high=0.17, size=qpos[2:].shape)  # Randomize joint positions\n",
        "      qvel[:] = qvel[:] + np.random.uniform(low=-0.1, high=0.1, size=qvel.shape)  # Randomize velocities\n",
        "\n",
        "    if case_number == 4:\n",
        "      qpos[1:2] =  qpos[1:2]+ np.random.uniform(low=-0.15, high=0.15, size=1)  # Randomize root position (excluding x-axis)\n",
        "      qpos[2:] = qpos[2:] + np.random.uniform(low=-0.26, high=0.26, size=qpos[2:].shape)  # Randomize joint positions\n",
        "      qvel[:] = qvel[:] + np.random.uniform(low=-0.1, high=0.1, size=qvel.shape)  # Randomize velocities\n",
        "\n",
        "    # print(qpos)\n",
        "    # print(qvel)\n",
        "\n",
        "    # env.env.set_state(qpos, qvel)\n",
        "    ob = np.concatenate([qpos[1:], qvel])  # Exclude the first dimension (x-axis) of qpos\n",
        "    smp.add_obs(ob)\n",
        "\n",
        "    # Set the inclination of the plane\n",
        "    model = env.env.model\n",
        "    model.opt.gravity[0] = 9.81 * np.sin(incline_angle)  # Adjust gravity for inclination\n",
        "    model.opt.gravity[2] = -9.81 * np.cos(incline_angle)\n",
        "\n",
        "    return ob\n",
        "\n",
        "def apply_inclination_visual(frame, incline_angle):\n",
        "    \"\"\"\n",
        "    Apply visual indication of inclination to the frame.\n",
        "    This function adds a rotated rectangle or other visual markers to indicate the incline.\n",
        "    \"\"\"\n",
        "    import cv2\n",
        "    h, w, _ = frame.shape\n",
        "    overlay = frame.copy()\n",
        "    angle_degrees = np.degrees(incline_angle)\n",
        "\n",
        "    # Draw a tilted line or rectangle to indicate the incline\n",
        "    rect_center = (w // 2, h // 2)\n",
        "    rect_size = (w, h // 10)\n",
        "    rect = ((rect_center), rect_size, angle_degrees)\n",
        "\n",
        "    box = cv2.boxPoints(rect)\n",
        "    box = np.intp(box)  # Use np.intp instead of np.int0\n",
        "    cv2.drawContours(overlay, [box], 0, (0, 255, 0), -1)\n",
        "\n",
        "    # Blend the overlay with the original frame\n",
        "    alpha = 0.4  # Transparency factor\n",
        "    frame = cv2.addWeighted(overlay, alpha, frame, 1 - alpha, 0)\n",
        "\n",
        "    return frame"
      ]
    },
    {
      "cell_type": "code",
      "execution_count": null,
      "metadata": {
        "id": "RWPALvirg4-6"
      },
      "outputs": [],
      "source": [
        "test_env = wrap_env(eval_env)\n",
        "test_env.seed(0)\n",
        "\n",
        "obs_nlags = 0\n",
        "obs_concat_axis = -1\n",
        "obs_expand_axis = None\n",
        "obs_padding = 'first'\n",
        "\n",
        "if hasattr(actor, 'obs_nlags'):\n",
        "    obs_nlags = actor.obs_nlags\n",
        "if hasattr(actor, 'obs_concat_axis'):\n",
        "    obs_concat_axis = actor.obs_concat_axis\n",
        "if hasattr(actor, 'obs_expand_axis'):\n",
        "    obs_expand_axis = actor.obs_expand_axis\n",
        "if hasattr(actor, 'obs_padding'):\n",
        "    obs_padding = actor.obs_padding\n",
        "\n",
        "smp = Sampler(env=test_env,\n",
        "              obs_nlags=obs_nlags,\n",
        "              obs_concat_axis=obs_concat_axis,\n",
        "              obs_expand_axis=obs_expand_axis,\n",
        "              obs_padding=obs_padding)\n"
      ]
    },
    {
      "cell_type": "code",
      "execution_count": null,
      "metadata": {
        "id": "2zo0Rsjygp8S"
      },
      "outputs": [],
      "source": [
        "def visualize_actor(actor, env, nsteps=200, size=(1400, 900), seed=0, train_sampling=False, data=None, incline_angle=0, case_number = 1, show_video=False, generate=True):\n",
        "    # display = Display(visible=0, size=size)\n",
        "    # display.start()\n",
        "\n",
        "    # test_env = wrap_env(env)\n",
        "    test_env.seed(seed)\n",
        "\n",
        "    # obs_nlags = getattr(actor, 'obs_nlags', 0)\n",
        "    # obs_concat_axis = getattr(actor, 'obs_concat_axis', -1)\n",
        "    # obs_expand_axis = getattr(actor, 'obs_expand_axis', None)\n",
        "    # obs_padding = getattr(actor, 'obs_padding', 'first')\n",
        "\n",
        "    # smp = Sampler(env=test_env, obs_nlags=obs_nlags, obs_concat_axis=obs_concat_axis, obs_expand_axis=obs_expand_axis, obs_padding=obs_padding)\n",
        "\n",
        "    # previous_mode = actor.train_sampling\n",
        "    # actor.train_sampling = train_sampling\n",
        "\n",
        "    ob = set_random_initial_state(smp, incline_angle=incline_angle,case_number=case_number)\n",
        "    if show_video:\n",
        "      frames = []\n",
        "\n",
        "    for i in range(nsteps):\n",
        "        if show_video:\n",
        "          frame = test_env.render(mode='rgb_array')\n",
        "          frames.append(frame)\n",
        "        smp.add_obs(ob)\n",
        "        _ob = smp.get_obs()\n",
        "        _ob = np.expand_dims(_ob, axis=0) # put _ob into batchmode for consistency\n",
        "        ac = actor.get_action(_ob)\n",
        "        ac = ac.squeeze(axis=0) # squeeze ac back for storage\n",
        "        if generate:\n",
        "            qpos = env.env.sim.data.qpos\n",
        "            qvel = env.env.sim.data.qvel\n",
        "            data[seed, i, :] = np.concatenate([qpos, qvel]) # 18 enteries\n",
        "\n",
        "        ob, rew, done, info = smp.step_env(ac)\n",
        "        # tot_rew += rew\n",
        "        # print(i)\n",
        "        if done:\n",
        "            break\n",
        "\n",
        "    test_env.close()\n",
        "    # actor.train_sampling = previous_mode\n",
        "    if show_video:\n",
        "        print('Loading video...')\n",
        "        for frame in frames:\n",
        "            plt.imshow(frame)\n",
        "            plt.axis('off')\n",
        "            plt.show()\n",
        "            ipythondisplay.clear_output(wait=True)\n",
        "        # show_video_fn()"
      ]
    },
    {
      "cell_type": "code",
      "source": [
        "# data = np.zeros((10, 200, 18))\n",
        "# visualize_actor(actor=actor, env=eval_env, nsteps=200, train_sampling=False, data=data, seed=0, incline_angle=0, case_number = 1, show_video=True, generate=True)\n",
        "\n",
        "# # Save the data to a file\n",
        "# %cd /content/\n",
        "# filename = f'training_test.pt'\n",
        "# torch.save(data, filename)"
      ],
      "metadata": {
        "id": "QnDVo5uc3SpF",
        "colab": {
          "base_uri": "https://localhost:8080/",
          "height": 406
        },
        "outputId": "b9029f14-a3e3-4dc7-b6ee-7e36234321eb"
      },
      "execution_count": null,
      "outputs": [
        {
          "output_type": "display_data",
          "data": {
            "text/plain": [
              "<Figure size 640x480 with 1 Axes>"
            ],
            "image/png": "[encoded data removed]"
          },
          "metadata": {}
        }
      ]
    },
    {
      "cell_type": "code",
      "source": [
        "import matplotlib.pyplot as plt\n",
        "import IPython.display as ipythondisplay\n",
        "from moviepy.editor import ImageSequenceClip\n",
        "\n",
        "def visualize_data(actor, env, nsteps=200, size=(1400, 900), seed=0, train_sampling=False, data=None, incline_angle=0, show_video=False, generate=False):\n",
        "    display = Display(visible=0, size=size)\n",
        "    display.start()\n",
        "\n",
        "    test_env = wrap_env(env)\n",
        "    test_env.seed(seed)\n",
        "\n",
        "    obs_nlags = getattr(actor, 'obs_nlags', 0)\n",
        "    obs_concat_axis = getattr(actor, 'obs_concat_axis', -1)\n",
        "    obs_expand_axis = getattr(actor, 'obs_expand_axis', None)\n",
        "    obs_padding = getattr(actor, 'obs_padding', 'first')\n",
        "\n",
        "    smp = Sampler(env=test_env, obs_nlags=obs_nlags, obs_concat_axis=obs_concat_axis, obs_expand_axis=obs_expand_axis, obs_padding=obs_padding)\n",
        "\n",
        "    previous_mode = actor.train_sampling\n",
        "    actor.train_sampling = train_sampling\n",
        "\n",
        "    ob = test_env.reset()\n",
        "\n",
        "    tot_rew = 0\n",
        "    frames = []\n",
        "\n",
        "    for i in range(nsteps):\n",
        "      ob = data[i, :]\n",
        "      qpos = env.env.sim.data.qpos.copy()\n",
        "      qvel = env.env.sim.data.qvel.copy()\n",
        "\n",
        "      qpos[:] = data[i, :9]\n",
        "      qvel[:] = data[i, 9:]\n",
        "      env.env.set_state(qpos, qvel)\n",
        "\n",
        "      frame = test_env.render(mode='rgb_array')\n",
        "      frames.append(frame)\n",
        "\n",
        "    test_env.close()\n",
        "    actor.train_sampling = previous_mode\n",
        "    if show_video:\n",
        "        print('Loading video...')\n",
        "        for frame in frames:\n",
        "            plt.imshow(frame)\n",
        "            plt.axis('off')\n",
        "            plt.show()\n",
        "            ipythondisplay.clear_output(wait=True)\n",
        "        clip = ImageSequenceClip(frames, fps=30)\n",
        "        clip.write_videofile(f\"/content/walker_trajectory{seed}.mp4\")\n",
        "        print(\"Video saved successfully.\")"
      ],
      "metadata": {
        "id": "7P4-K3Tn9vMh"
      },
      "execution_count": null,
      "outputs": []
    },
    {
      "cell_type": "code",
      "source": [
        "# # To visualize the generated data:\n",
        "# loaded_data = torch.load('/content/training_test.pt')\n",
        "# visualize_data(actor=actor, env=eval_env, nsteps=200, train_sampling=False, data=loaded_data[0], seed=0, incline_angle=0, show_video=True, generate=False)\n"
      ],
      "metadata": {
        "id": "N6xs1zgg95r6",
        "colab": {
          "base_uri": "https://localhost:8080/",
          "height": 121
        },
        "outputId": "eac34d27-27c7-4d3b-b17d-1b8e4e1c5095"
      },
      "execution_count": null,
      "outputs": [
        {
          "output_type": "stream",
          "name": "stdout",
          "text": [
            "Moviepy - Building video /content/walker_trajectory0.mp4.\n",
            "Moviepy - Writing video /content/walker_trajectory0.mp4\n",
            "\n"
          ]
        },
        {
          "output_type": "stream",
          "name": "stderr",
          "text": []
        },
        {
          "output_type": "stream",
          "name": "stdout",
          "text": [
            "Moviepy - Done !\n",
            "Moviepy - video ready /content/walker_trajectory0.mp4\n",
            "Video saved successfully.\n"
          ]
        }
      ]
    },
    {
      "cell_type": "code",
      "execution_count": null,
      "metadata": {
        "colab": {
          "base_uri": "https://localhost:8080/"
        },
        "id": "1LfW3w6I2oz5",
        "outputId": "e050ddd8-a45c-40bd-ff3f-e277dafc3e63"
      },
      "outputs": [
        {
          "output_type": "stream",
          "name": "stdout",
          "text": [
            "case number 1\n",
            "incline angle 0\n",
            "incline angle 0.087\n",
            "incline angle 0.17\n",
            "incline angle 0.26\n",
            "incline angle 0.35\n",
            "case number 2\n",
            "incline angle 0\n",
            "incline angle 0.087\n",
            "incline angle 0.17\n",
            "incline angle 0.26\n",
            "incline angle 0.35\n",
            "case number 3\n",
            "incline angle 0\n",
            "incline angle 0.087\n",
            "incline angle 0.17\n",
            "incline angle 0.26\n",
            "case number 4\n",
            "incline angle 0\n",
            "incline angle 0.087\n",
            "incline angle 0.17\n",
            "/content\n"
          ]
        }
      ],
      "source": [
        "# Define the parameters\n",
        "import numpy as np\n",
        "\n",
        "nsteps = 200\n",
        "data_dim = 18\n",
        "\n",
        "case_numbers = [1, 2, 3, 4]\n",
        "\n",
        "n_samples_0 = [250, 250, 250, 250, 250]\n",
        "n_samples_5 = [250, 500, 1000, 500, 500]\n",
        "n_samples_10 = [1000, 1000, 1000, 1000]\n",
        "n_samples_15 = [1000, 500, 500]\n",
        "\n",
        "# n_samples_0 = [2, 3, 4, 4, 2]\n",
        "# n_samples_5 = [1,2,3,2,1]\n",
        "# n_samples_10 = [2,1,3,1]\n",
        "# n_samples_15 = [3,1,2]\n",
        "\n",
        "n_samples = [n_samples_0, n_samples_5, n_samples_10, n_samples_15]\n",
        "\n",
        "incline_angles_0 = [0, 0.087, 0.17, 0.26, 0.35]\n",
        "incline_angles_5 = [0, 0.087, 0.17, 0.26, 0.35]\n",
        "incline_angles_10 = [0, 0.087, 0.17, 0.26]\n",
        "incline_angles_15 = [0, 0.087, 0.17]\n",
        "\n",
        "incline_angles = [incline_angles_0, incline_angles_5, incline_angles_10, incline_angles_15]\n",
        "\n",
        "data_final = []\n",
        "\n",
        "# Iterate over the inclination angles and corresponding sample sizes\n",
        "for case_index, case_number in enumerate(case_numbers):\n",
        "  print('case number', case_number)\n",
        "  for angle_index, incline_angle in enumerate(incline_angles[case_index]):\n",
        "      print('incline angle', incline_angle)\n",
        "      # Run the simulation for each sample\n",
        "      data = np.zeros((n_samples[case_index][angle_index], nsteps, data_dim))\n",
        "      for i in range(n_samples[case_index][angle_index]):\n",
        "          # Initialize the data array\n",
        "          # visualize_actor(smp=smp, actor=actor, nsteps=nsteps, train_sampling=False,data= data, seed=i,incline_angle=incline_angle,case_number = case_number, show_video=False)\n",
        "          visualize_actor(actor=actor, env=eval_env, nsteps=nsteps, train_sampling=False, data=data, seed=i, incline_angle=incline_angle,case_number = case_number, show_video=False, generate=True)\n",
        "\n",
        "      data_final.append(data)\n",
        "\n",
        "data_final = np.concatenate(data_final, axis=0)\n",
        "\n",
        "# Save the data to a file\n",
        "%cd /content/\n",
        "filename = f'training.pt'\n",
        "torch.save(data_final, filename)\n",
        "\n",
        "# print(f'Data for inclination angle {incline_angle} saved to {filename}')\n"
      ]
    },
    {
      "cell_type": "code",
      "source": [
        "# visualize_data(actor=actor, env=eval_env, nsteps=200, train_sampling=False, data=data_final[35], seed=35, incline_angle=0, show_video=True, generate=False)\n"
      ],
      "metadata": {
        "colab": {
          "base_uri": "https://localhost:8080/",
          "height": 121
        },
        "id": "q90FZE59BjMG",
        "outputId": "f030444e-aa21-4e6f-a49c-1c64a6fb5745"
      },
      "execution_count": null,
      "outputs": [
        {
          "output_type": "stream",
          "name": "stdout",
          "text": [
            "Moviepy - Building video /content/walker_trajectory35.mp4.\n",
            "Moviepy - Writing video /content/walker_trajectory35.mp4\n",
            "\n"
          ]
        },
        {
          "output_type": "stream",
          "name": "stderr",
          "text": []
        },
        {
          "output_type": "stream",
          "name": "stdout",
          "text": [
            "Moviepy - Done !\n",
            "Moviepy - video ready /content/walker_trajectory35.mp4\n",
            "Video saved successfully.\n"
          ]
        }
      ]
    },
    {
      "cell_type": "code",
      "execution_count": null,
      "metadata": {
        "colab": {
          "base_uri": "https://localhost:8080/"
        },
        "id": "QCXHVN8n_cFa",
        "outputId": "e3ec0bf1-a732-412b-9525-e1e7b4e6226d"
      },
      "outputs": [
        {
          "output_type": "stream",
          "name": "stdout",
          "text": [
            "\u001b[0m\u001b[01;34mcontent\u001b[0m/  \u001b[01;34mrelax_dyna_q_example\u001b[0m/  training.pt       walker_trajectory0.mp4   walker_trajectory35.mp4\n",
            "\u001b[01;34mrelax\u001b[0m/    \u001b[01;34msample_data\u001b[0m/           training_test.pt  walker_trajectory34.mp4  walker_trajectory36.mp4\n"
          ]
        }
      ],
      "source": [
        "ls"
      ]
    },
    {
      "cell_type": "code",
      "execution_count": null,
      "metadata": {
        "id": "a_Qry-FSghZF"
      },
      "outputs": [],
      "source": [
        "data = torch.load('/content/training.pt')\n",
        "np.array(data).shape\n",
        "\n",
        "shuffled_indices = torch.randperm(data.shape[0])\n",
        "shuffled_data = data[shuffled_indices]\n",
        "\n",
        "torch.save(shuffled_data, '/content/training_shuffled.pt')"
      ]
    },
    {
      "cell_type": "code",
      "execution_count": null,
      "metadata": {
        "id": "31imI-AJhe-y",
        "colab": {
          "base_uri": "https://localhost:8080/"
        },
        "outputId": "00fe550b-fe9c-4fdc-f2d6-0195a5cdc17d"
      },
      "outputs": [
        {
          "output_type": "stream",
          "name": "stdout",
          "text": [
            "Mounted at /content/drive\n"
          ]
        }
      ],
      "source": [
        "from google.colab import drive\n",
        "drive.mount('/content/drive')\n"
      ]
    },
    {
      "cell_type": "code",
      "execution_count": null,
      "metadata": {
        "id": "qXBPovYShkrh"
      },
      "outputs": [],
      "source": [
        "!cp 'training.pt' '/content/drive/My Drive/training.pt'"
      ]
    },
    {
      "cell_type": "code",
      "execution_count": null,
      "metadata": {
        "id": "cJ2De8Oki2qg"
      },
      "outputs": [],
      "source": [
        "!cp 'training_shuffled.pt' '/content/drive/My Drive/training_shuffled.pt'"
      ]
    },
    {
      "cell_type": "code",
      "execution_count": null,
      "metadata": {
        "colab": {
          "background_save": true
        },
        "id": "vNmXCz224U0i",
        "scrolled": false
      },
      "outputs": [],
      "source": [
        "# n_samples = 3\n",
        "# nsteps = 200\n",
        "# data_dim = 17\n",
        "\n",
        "# data = np.zeros((n_samples, nsteps, data_dim))\n",
        "# for i in range(n_samples) :\n",
        "#   visualize_actor(env=eval_env, actor=actor, nsteps=nsteps, train_sampling=False,data= data, seed=i,incline_angle=0.26,show_video=True)\n",
        "\n",
        "# %cd /content/\n",
        "# torch.save(data,'training.pt')"
      ]
    },
    {
      "cell_type": "code",
      "execution_count": null,
      "metadata": {
        "id": "CNx0yvEV3uqk"
      },
      "outputs": [],
      "source": [
        "# n_samples = 1\n",
        "# nsteps = 300\n",
        "# data_dim = 17\n",
        "# data = np.zeros((n_samples, nsteps, data_dim))\n",
        "# for i in range(n_samples) :\n",
        "#   visualize_actor(env=eval_env, actor=actor, nsteps=nsteps, train_sampling=False,data= data, seed=i,incline_angle=1.1,show_video=True)\n"
      ]
    },
    {
      "cell_type": "code",
      "execution_count": null,
      "metadata": {
        "id": "WUUudGsH5WZr"
      },
      "outputs": [],
      "source": [
        "# n_samples = 5\n",
        "# nsteps = 200\n",
        "# data_dim = 17\n",
        "# data = np.zeros((n_samples, nsteps, data_dim))\n",
        "# for i in range(n_samples) :\n",
        "#   visualize_actor(env=eval_env, actor=actor, nsteps=nsteps, train_sampling=False,data= data, seed=i,incline_angle=1,show_video=True)\n"
      ]
    },
    {
      "cell_type": "code",
      "execution_count": null,
      "metadata": {
        "id": "oyI1nJtv5x5S"
      },
      "outputs": [],
      "source": [
        "# n_samples = 5\n",
        "# nsteps = 200\n",
        "# data_dim = 17\n",
        "# data = np.zeros((n_samples, nsteps, data_dim))\n",
        "# for i in range(n_samples) :\n",
        "#   visualize_actor(env=eval_env, actor=actor, nsteps=nsteps, train_sampling=False,data= data, seed=i,incline_angle=2,show_video=True)"
      ]
    },
    {
      "cell_type": "code",
      "execution_count": null,
      "metadata": {
        "id": "fmYtccXh3o3k"
      },
      "outputs": [],
      "source": [
        "# n_samples = 5\n",
        "# nsteps = 200\n",
        "# data_dim = 17\n",
        "# data = np.zeros((n_samples, nsteps, data_dim))\n",
        "# for i in range(n_samples) :\n",
        "#   visualize_actor(env=eval_env, actor=actor, nsteps=nsteps, train_sampling=False,data= data, seed=i,incline_angle=0.5,show_video=True)"
      ]
    },
    {
      "cell_type": "code",
      "execution_count": null,
      "metadata": {
        "id": "qIEr5wXa6wcY"
      },
      "outputs": [],
      "source": [
        "# n_samples = 5\n",
        "# nsteps = 200\n",
        "# data_dim = 17\n",
        "# data = np.zeros((n_samples, nsteps, data_dim))\n",
        "# for i in range(n_samples) :\n",
        "#   visualize_actor(env=eval_env, actor=actor, nsteps=nsteps, train_sampling=False,data= data, seed=i,incline_angle=0.1,show_video=True)"
      ]
    },
    {
      "cell_type": "code",
      "execution_count": null,
      "metadata": {
        "id": "1aQBknP97K-a"
      },
      "outputs": [],
      "source": [
        "# n_samples = 5\n",
        "# nsteps = 200\n",
        "# data_dim = 17\n",
        "# data = np.zeros((n_samples, nsteps, data_dim))\n",
        "# for i in range(n_samples) :\n",
        "#   visualize_actor(env=eval_env, actor=actor, nsteps=nsteps, train_sampling=False,data= data, seed=i,incline_angle=30,show_video=True)"
      ]
    },
    {
      "cell_type": "markdown",
      "metadata": {
        "id": "URUVq9MjibGE"
      },
      "source": []
    },
    {
      "cell_type": "code",
      "execution_count": null,
      "metadata": {
        "id": "OsgM_ohzJiE1"
      },
      "outputs": [],
      "source": [
        "# <!-- Example snippet of the XML file -->\n",
        "# <mujoco>\n",
        "#   <worldbody>\n",
        "#     <!-- Existing ground plane definition -->\n",
        "#     <geom name=\"floor\" type=\"plane\" pos=\"0 0 0\" size=\"40 40 1\" />\n",
        "\n",
        "#     <!-- Modified ground plane definition with a slope -->\n",
        "#     <geom name=\"floor\" type=\"plane\" pos=\"0 0 0\" size=\"40 40 1\" euler=\"0.1 0 0\" />\n",
        "#   </worldbody>\n",
        "# </mujoco>"
      ]
    },
    {
      "cell_type": "code",
      "execution_count": null,
      "metadata": {
        "id": "wcEGydW4LuP2"
      },
      "outputs": [],
      "source": [
        "# %cd /content/gym"
      ]
    },
    {
      "cell_type": "code",
      "execution_count": null,
      "metadata": {
        "id": "WLyOjtGWOblO"
      },
      "outputs": [],
      "source": [
        "# !pip install -e ."
      ]
    },
    {
      "cell_type": "code",
      "execution_count": null,
      "metadata": {
        "id": "aHj6XZOULWsz"
      },
      "outputs": [],
      "source": [
        "# !cat /content/gym/gym/envs/mujoco/assets/walker2d.xml"
      ]
    },
    {
      "cell_type": "code",
      "execution_count": null,
      "metadata": {
        "id": "11yrZDJZLgkI"
      },
      "outputs": [],
      "source": [
        "# !pip uninstall gym -y"
      ]
    }
  ],
  "metadata": {
    "accelerator": "GPU",
    "colab": {
      "gpuType": "T4",
      "provenance": [],
      "include_colab_link": true
    },
    "kernelspec": {
      "display_name": "Python Relax",
      "language": "python",
      "name": "relax"
    },
    "language_info": {
      "codemirror_mode": {
        "name": "ipython",
        "version": 3
      },
      "file_extension": ".py",
      "mimetype": "text/x-python",
      "name": "python",
      "nbconvert_exporter": "python",
      "pygments_lexer": "ipython3",
      "version": "3.6.13"
    }
  },
  "nbformat": 4,
  "nbformat_minor": 0
}